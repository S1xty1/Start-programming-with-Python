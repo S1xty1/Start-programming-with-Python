{
 "cells": [
  {
   "cell_type": "code",
   "execution_count": 33,
   "id": "f33eccfd",
   "metadata": {},
   "outputs": [
    {
     "name": "stdout",
     "output_type": "stream",
     "text": [
      "[0, 35, 38, 62, 79, 126, 136, 167, 166, 200, 198, 252, 220, 290, 298, 330, 332, 371, 380, 430, 394, 428, 450, 481, 494, 578, 496, 548, 569, 587, 638, 699, 683, 703, 689, 742, 757, 783, 766, 810, 824, 893, 850, 880, 969, 912, 903, 983, 1004, 1008, 994, 1112, 1087, 1106, 1131, 1116, 1192, 1193, 1200, 1267, 1247, 1293, 1215, 1294, 1302, 1347, 1385, 1387, 1426, 1443, 1379, 1476, 1452, 1515, 1546, 1431, 1521, 1551, 1630, 1706, 1752, 1671, 1619, 1740, 1686, 1781, 1699, 1682, 1755, 1829, 1860, 1907, 1821, 1892, 1917, 1882, 1953, 2005, 1974]\n"
     ]
    },
    {
     "data": {
      "image/png": "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\n",
      "text/plain": [
       "<Figure size 432x288 with 1 Axes>"
      ]
     },
     "metadata": {
      "needs_background": "light"
     },
     "output_type": "display_data"
    }
   ],
   "source": [
    "import random\n #每次杀一个人，只杀死奇数的人，统计活到最后次数"\n,
    "count=[0]*99\n",
    "for j in range(1,100001):\n",
    "    numlist=[x for x in range(1,100)]\n",
    "    for i in range(1,99):\n",
    "            \n",
    "        kill=random.randrange(1,101-i,2)\n",
    "        \n",
    "        del numlist[kill-1]\n",
    "        \n",
    "    count[numlist[0]-1]+=1\n",
    "print(count)\n",
    "\n",
    "import matplotlib.pyplot as plt\n",
    "fig,ax=plt.subplots()\n",
    "\n",
    "x=list(range(99))\n",
    "plt.plot(x,count,lw=2,ls='-',c='b',alpha=1)\n",
    "plt.show()\n",
    "    "
   ]
  },
  {
   "cell_type": "code",
   "execution_count": 27,
   "id": "5b08153a",
   "metadata": {},
   "outputs": [
    {
     "name": "stdout",
     "output_type": "stream",
     "text": [
      "[0, 1, 2, 3, 4, 5, 6, 7, 8, 9, 10, 11, 12, 13, 14, 15, 16, 17, 18, 19, 20, 21, 22, 23, 24, 25, 26, 27, 28, 29, 30, 31, 32, 33, 34, 35, 36, 37, 38, 39, 40, 41, 42, 43, 44, 45, 46, 47, 48, 49, 50, 51, 52, 53, 54, 55, 56, 57, 58, 59, 60, 61, 62, 63, 64, 65, 66, 67, 68, 69, 70, 71, 72, 73, 74, 75, 76, 77, 78, 79, 80, 81, 82, 83, 84, 85, 86, 87, 88, 89, 90, 91, 92, 93, 94, 95, 96, 97, 98, 99]\n"
     ]
    }
   ],
   "source": [
    "x=list(range(100))\n",
    "print(x)"
   ]
  },
  {
   "cell_type": "code",
   "execution_count": null,
   "id": "835b8a74",
   "metadata": {},
   "outputs": [],
   "source": []
  }
 ],
 "metadata": {
  "kernelspec": {
   "display_name": "Python 3 (ipykernel)",
   "language": "python",
   "name": "python3"
  },
  "language_info": {
   "codemirror_mode": {
    "name": "ipython",
    "version": 3
   },
   "file_extension": ".py",
   "mimetype": "text/x-python",
   "name": "python",
   "nbconvert_exporter": "python",
   "pygments_lexer": "ipython3",
   "version": "3.9.12"
  }
 },
 "nbformat": 4,
 "nbformat_minor": 5
}
