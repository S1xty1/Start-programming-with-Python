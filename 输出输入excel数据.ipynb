{
 "cells": [
  {
   "cell_type": "code",
   "execution_count": 2,
   "id": "db7b89a0",
   "metadata": {},
   "outputs": [
    {
     "name": "stdout",
     "output_type": "stream",
     "text": [
      "Collecting xlwt\n",
      "  Downloading xlwt-1.3.0-py2.py3-none-any.whl (99 kB)\n",
      "Installing collected packages: xlwt\n",
      "Successfully installed xlwt-1.3.0\n",
      "Note: you may need to restart the kernel to use updated packages.\n"
     ]
    }
   ],
   "source": [
    "pip install xlwt"
   ]
  },
  {
   "cell_type": "code",
   "execution_count": 3,
   "id": "b6c6a2fc",
   "metadata": {},
   "outputs": [],
   "source": [
    "import xlwt"
   ]
  },
  {
   "cell_type": "code",
   "execution_count": 9,
   "id": "cd1613ae",
   "metadata": {},
   "outputs": [
    {
     "data": {
      "text/plain": [
       "<matplotlib.collections.PathCollection at 0x1f208ec22b0>"
      ]
     },
     "execution_count": 9,
     "metadata": {},
     "output_type": "execute_result"
    },
    {
     "data": {
      "image/png": "[encoded data removed]",
      "text/plain": [
       "<Figure size 432x288 with 1 Axes>"
      ]
     },
     "metadata": {
      "needs_background": "light"
     },
     "output_type": "display_data"
    }
   ],
   "source": [
    "import numpy as np\n",
    "import pandas as pd\n",
    "import matplotlib.pyplot as plt\n",
    "import random\n",
    "\n",
    "def bubblesort(array):\n",
    "\n",
    "  for i in range(len(array)):\n",
    "    for j in range(0, len(array)-i-1):\n",
    "      if array[j]>array[j+1]:\n",
    "        temp = array[j]\n",
    "        array[j] = array[j+1]\n",
    "        array[j+1] = temp\n",
    "\n",
    "def add_gauss_noise(x,y):\n",
    "    mu=0\n",
    "    sigma=90\n",
    "    for i in range(len(x)):\n",
    "        y[i]=y[i]+random.gauss(mu,sigma)\n",
    "        \n",
    "data_x=[]\n",
    "data_y=[]\n",
    "for x in range(10000):\n",
    "    data_x.append((x+1-5000)/100)\n",
    "    data_y.append(np.random.normal(4000,900))\n",
    "\n",
    "bubblesort(data_y)\n",
    "add_gauss_noise(data_x,data_y)\n",
    "plt.scatter(data_x,data_y)\n"
   ]
  },
  {
   "cell_type": "code",
   "execution_count": 14,
   "id": "c9f3c230",
   "metadata": {},
   "outputs": [
    {
     "name": "stdout",
     "output_type": "stream",
     "text": [
      "          x            y\n",
      "0    -49.99   305.488808\n",
      "1    -49.98   692.007972\n",
      "2    -49.97   906.125798\n",
      "3    -49.96  1139.361021\n",
      "4    -49.95  1255.550956\n",
      "...     ...          ...\n",
      "9995  49.96  6839.480382\n",
      "9996  49.97  6959.962512\n",
      "9997  49.98  7045.545580\n",
      "9998  49.99  7258.870222\n",
      "9999  50.00  7696.666568\n",
      "\n",
      "[10000 rows x 2 columns]\n"
     ]
    }
   ],
   "source": [
    "import pandas as pd\n",
    "\n",
    "name=['x','y']\n",
    "list1=[]\n",
    "for x in range(10000):\n",
    "    a=[data_x[x],data_y[x]]\n",
    "    list1.append(a)\n",
    "data=pd.DataFrame(columns=name,data=list1)\n",
    "print(data)\n",
    "data.to_csv('e:/data_with_noise.csv',encoding='gbk')"
   ]
  },
  {
   "cell_type": "code",
   "execution_count": null,
   "id": "3a56d282",
   "metadata": {},
   "outputs": [],
   "source": []
  }
 ],
 "metadata": {
  "kernelspec": {
   "display_name": "Python 3 (ipykernel)",
   "language": "python",
   "name": "python3"
  },
  "language_info": {
   "codemirror_mode": {
    "name": "ipython",
    "version": 3
   },
   "file_extension": ".py",
   "mimetype": "text/x-python",
   "name": "python",
   "nbconvert_exporter": "python",
   "pygments_lexer": "ipython3",
   "version": "3.9.12"
  }
 },
 "nbformat": 4,
 "nbformat_minor": 5
}
