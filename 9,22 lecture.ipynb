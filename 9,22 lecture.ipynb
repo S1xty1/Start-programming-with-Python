{
 "cells": [
  {
   "cell_type": "code",
   "execution_count": 1,
   "id": "b4d84046",
   "metadata": {},
   "outputs": [],
   "source": [
    "my_list = [1,2,3,4,5]"
   ]
  },
  {
   "cell_type": "code",
   "execution_count": 2,
   "id": "22e6b1d9",
   "metadata": {},
   "outputs": [
    {
     "data": {
      "text/plain": [
       "1"
      ]
     },
     "execution_count": 2,
     "metadata": {},
     "output_type": "execute_result"
    }
   ],
   "source": [
    "my_list[0]"
   ]
  },
  {
   "cell_type": "code",
   "execution_count": 3,
   "id": "4b0ee7f8",
   "metadata": {},
   "outputs": [
    {
     "ename": "NameError",
     "evalue": "name '从后往前数' is not defined",
     "output_type": "error",
     "traceback": [
      "\u001b[1;31m---------------------------------------------------------------------------\u001b[0m",
      "\u001b[1;31mNameError\u001b[0m                                 Traceback (most recent call last)",
      "Input \u001b[1;32mIn [3]\u001b[0m, in \u001b[0;36m<cell line: 1>\u001b[1;34m()\u001b[0m\n\u001b[1;32m----> 1\u001b[0m my_list[\u001b[38;5;241m-\u001b[39m\u001b[38;5;241m2\u001b[39m] \u001b[38;5;241m/\u001b[39m\u001b[38;5;241m/\u001b[39m\u001b[43m从后往前数\u001b[49m\n",
      "\u001b[1;31mNameError\u001b[0m: name '从后往前数' is not defined"
     ]
    }
   ],
   "source": [
    "my_list[-2] //从后往前数"
   ]
  },
  {
   "cell_type": "code",
   "execution_count": null,
   "id": "fa519d9b",
   "metadata": {},
   "outputs": [],
   "source": [
    "my_list[-2]"
   ]
  },
  {
   "cell_type": "code",
   "execution_count": null,
   "id": "f6091a1f",
   "metadata": {},
   "outputs": [],
   "source": [
    "my_list[0] = 100"
   ]
  },
  {
   "cell_type": "code",
   "execution_count": null,
   "id": "691bc8d0",
   "metadata": {},
   "outputs": [],
   "source": [
    "my_list"
   ]
  },
  {
   "cell_type": "code",
   "execution_count": null,
   "id": "cc0ce9fa",
   "metadata": {},
   "outputs": [],
   "source": [
    "my_list[-2] #从后往前数"
   ]
  },
  {
   "cell_type": "code",
   "execution_count": null,
   "id": "fb2e1716",
   "metadata": {},
   "outputs": [],
   "source": [
    "my_list[3] = 'hello'"
   ]
  },
  {
   "cell_type": "code",
   "execution_count": null,
   "id": "8b3f1409",
   "metadata": {},
   "outputs": [],
   "source": [
    "my_list"
   ]
  },
  {
   "cell_type": "code",
   "execution_count": null,
   "id": "e98404cc",
   "metadata": {},
   "outputs": [],
   "source": [
    "my_list[4] = [1,2,3]"
   ]
  },
  {
   "cell_type": "code",
   "execution_count": null,
   "id": "2f6dda1c",
   "metadata": {},
   "outputs": [],
   "source": [
    "my_list"
   ]
  },
  {
   "cell_type": "code",
   "execution_count": null,
   "id": "2b9ad958",
   "metadata": {},
   "outputs": [],
   "source": [
    "my_list[4][2]"
   ]
  },
  {
   "cell_type": "code",
   "execution_count": null,
   "id": "f403cb5d",
   "metadata": {},
   "outputs": [],
   "source": [
    "my_list[4][2]=90"
   ]
  },
  {
   "cell_type": "code",
   "execution_count": null,
   "id": "db9507e0",
   "metadata": {},
   "outputs": [],
   "source": [
    "my_list"
   ]
  },
  {
   "cell_type": "code",
   "execution_count": null,
   "id": "30680eb3",
   "metadata": {},
   "outputs": [],
   "source": [
    "my_list=[0,1,2,3,4,5]"
   ]
  },
  {
   "cell_type": "code",
   "execution_count": null,
   "id": "ab9c7de2",
   "metadata": {},
   "outputs": [],
   "source": [
    "my_list[1:5]"
   ]
  },
  {
   "cell_type": "code",
   "execution_count": null,
   "id": "ffbba141",
   "metadata": {},
   "outputs": [],
   "source": [
    "#大于等于1小于5的元素 前闭后开区间"
   ]
  },
  {
   "cell_type": "code",
   "execution_count": null,
   "id": "f9990e09",
   "metadata": {},
   "outputs": [],
   "source": [
    "my_list[2:]"
   ]
  },
  {
   "cell_type": "code",
   "execution_count": null,
   "id": "9ded747c",
   "metadata": {},
   "outputs": [],
   "source": [
    "my_list[0:6:2] #数组中[a:b:c] 大于等于a小于b的元素,访问步长为2"
   ]
  },
  {
   "cell_type": "code",
   "execution_count": null,
   "id": "30f18bb3",
   "metadata": {},
   "outputs": [],
   "source": [
    "my_list[6:0:-1]"
   ]
  },
  {
   "cell_type": "code",
   "execution_count": null,
   "id": "5a974adb",
   "metadata": {},
   "outputs": [],
   "source": [
    "my_list[6::-1]"
   ]
  },
  {
   "cell_type": "code",
   "execution_count": null,
   "id": "99c86a67",
   "metadata": {},
   "outputs": [],
   "source": [
    "[1,2,3]+[4,5]"
   ]
  },
  {
   "cell_type": "code",
   "execution_count": null,
   "id": "e233e6b7",
   "metadata": {},
   "outputs": [],
   "source": [
    "[1,2,3]*5"
   ]
  },
  {
   "cell_type": "code",
   "execution_count": null,
   "id": "34400d4a",
   "metadata": {},
   "outputs": [],
   "source": [
    "my_list = list() #构造函数"
   ]
  },
  {
   "cell_type": "code",
   "execution_count": null,
   "id": "a2d83268",
   "metadata": {},
   "outputs": [],
   "source": [
    "my_list"
   ]
  },
  {
   "cell_type": "code",
   "execution_count": null,
   "id": "cc3f94f3",
   "metadata": {},
   "outputs": [],
   "source": [
    "my_list = []"
   ]
  },
  {
   "cell_type": "code",
   "execution_count": null,
   "id": "00c73d14",
   "metadata": {},
   "outputs": [],
   "source": [
    "my_list.append(1) #增加元素的方法"
   ]
  },
  {
   "cell_type": "code",
   "execution_count": null,
   "id": "64e39929",
   "metadata": {},
   "outputs": [],
   "source": [
    "my_list"
   ]
  },
  {
   "cell_type": "code",
   "execution_count": null,
   "id": "628c358a",
   "metadata": {},
   "outputs": [],
   "source": [
    "my_list = list()\n",
    "x=1 \n",
    "while x<10 \n",
    "    my_list.append(x)\n",
    "    x=x+1"
   ]
  },
  {
   "cell_type": "code",
   "execution_count": null,
   "id": "c51c5231",
   "metadata": {},
   "outputs": [],
   "source": [
    "my_list = list()\n",
    "x=1 \n",
    "while x<10: #循环需要冒号\n",
    "    my_list.append(x)\n",
    "    x=x+1\n",
    "my_list"
   ]
  },
  {
   "cell_type": "code",
   "execution_count": null,
   "id": "9f58ab43",
   "metadata": {},
   "outputs": [],
   "source": [
    "my_list=list(range(1,10)) #前闭后开"
   ]
  },
  {
   "cell_type": "code",
   "execution_count": null,
   "id": "8456c692",
   "metadata": {},
   "outputs": [],
   "source": [
    "my_list"
   ]
  },
  {
   "cell_type": "code",
   "execution_count": null,
   "id": "fc98c590",
   "metadata": {},
   "outputs": [],
   "source": [
    "'hello'[0]"
   ]
  },
  {
   "cell_type": "code",
   "execution_count": null,
   "id": "3b428a11",
   "metadata": {},
   "outputs": [],
   "source": [
    "my_list = list('hello')\n",
    "my_list"
   ]
  },
  {
   "cell_type": "code",
   "execution_count": null,
   "id": "84683576",
   "metadata": {},
   "outputs": [],
   "source": [
    "my_list = 'hello'\n",
    "my_list"
   ]
  },
  {
   "cell_type": "code",
   "execution_count": null,
   "id": "3187d842",
   "metadata": {},
   "outputs": [],
   "source": [
    "my_list = list('hello')"
   ]
  },
  {
   "cell_type": "code",
   "execution_count": null,
   "id": "1964bab3",
   "metadata": {},
   "outputs": [],
   "source": [
    "4 in my_list"
   ]
  },
  {
   "cell_type": "code",
   "execution_count": null,
   "id": "91b5e4ca",
   "metadata": {},
   "outputs": [],
   "source": [
    "e in my_list"
   ]
  },
  {
   "cell_type": "code",
   "execution_count": null,
   "id": "ca8bd7f2",
   "metadata": {},
   "outputs": [],
   "source": [
    "'e' in my_list"
   ]
  },
  {
   "cell_type": "code",
   "execution_count": null,
   "id": "c59dab5d",
   "metadata": {},
   "outputs": [],
   "source": [
    "my_list=list(\"aeiou\")"
   ]
  },
  {
   "cell_type": "code",
   "execution_count": null,
   "id": "9f622837",
   "metadata": {},
   "outputs": [],
   "source": [
    "ch = input('please input a char:')\n",
    "if ch in my_list:\n",
    "    print('It is a vowel')\n",
    "else:\n",
    "    print('It is not a vowel')"
   ]
  },
  {
   "cell_type": "code",
   "execution_count": null,
   "id": "55fe4e88",
   "metadata": {},
   "outputs": [],
   "source": [
    "ch = input('please input a char:')\n",
    "if ch in my_list:\n",
    "    print('It is a vowel')\n",
    "else:\n",
    "    print('It is not a vowel')"
   ]
  },
  {
   "cell_type": "code",
   "execution_count": null,
   "id": "a5139dd4",
   "metadata": {},
   "outputs": [],
   "source": [
    "for i in range(1,10):\n",
    "    print(i)"
   ]
  },
  {
   "cell_type": "code",
   "execution_count": null,
   "id": "2cdd19bf",
   "metadata": {},
   "outputs": [],
   "source": [
    "for i in range(1,10):\n",
    "    print(i,end=' ')"
   ]
  },
  {
   "cell_type": "code",
   "execution_count": null,
   "id": "39d08612",
   "metadata": {},
   "outputs": [],
   "source": [
    "for i in range(1,10):\n",
    "    print(f'{i}^3={i ** 3}') #f'是格式化字符串 {}可以直接调用变量"
   ]
  },
  {
   "cell_type": "code",
   "execution_count": null,
   "id": "c5eff631",
   "metadata": {},
   "outputs": [],
   "source": [
    "for i in range(1,10):\n",
    "    print((9-i)*' ', (2*i-1)*'*')"
   ]
  },
  {
   "cell_type": "code",
   "execution_count": null,
   "id": "f392331a",
   "metadata": {},
   "outputs": [],
   "source": [
    "for i in range(1,10):\n",
    "    for j in range(1,10):\n",
    "        if i<=j:\n",
    "            print(f'{i}*{j}={i*j}',end='\\t')#\"\\t\"为制表键（Tab），自动对齐\n",
    "        else:\n",
    "            print('',end='\\t')\n",
    "    print('')"
   ]
  },
  {
   "cell_type": "code",
   "execution_count": null,
   "id": "5654b0ef",
   "metadata": {},
   "outputs": [],
   "source": [
    "my_list = range(1,10)\n",
    "len(my_list)"
   ]
  },
  {
   "cell_type": "code",
   "execution_count": null,
   "id": "0f8d839b",
   "metadata": {},
   "outputs": [],
   "source": [
    "my_list = [1,2,2,3,3,3]\n",
    "my_list.count(2)"
   ]
  },
  {
   "cell_type": "code",
   "execution_count": null,
   "id": "3c8d6bb1",
   "metadata": {},
   "outputs": [],
   "source": [
    "my_list.index(3) #返回查找元素的第一次出现的下标"
   ]
  },
  {
   "cell_type": "code",
   "execution_count": null,
   "id": "23e0942d",
   "metadata": {},
   "outputs": [],
   "source": [
    "my_list.index(3,4)"
   ]
  },
  {
   "cell_type": "code",
   "execution_count": null,
   "id": "311ab0c3",
   "metadata": {},
   "outputs": [],
   "source": [
    "my_list.index(4)"
   ]
  },
  {
   "cell_type": "code",
   "execution_count": null,
   "id": "f8136cfa",
   "metadata": {},
   "outputs": [],
   "source": [
    "if 4 in my_list:\n",
    "    print(my_list.index(4))"
   ]
  },
  {
   "cell_type": "code",
   "execution_count": null,
   "id": "bec8f9d3",
   "metadata": {},
   "outputs": [],
   "source": [
    "my_list.insert(2,100)"
   ]
  },
  {
   "cell_type": "code",
   "execution_count": null,
   "id": "f1f7073d",
   "metadata": {},
   "outputs": [],
   "source": [
    "my_list"
   ]
  },
  {
   "cell_type": "code",
   "execution_count": null,
   "id": "b64d8c46",
   "metadata": {},
   "outputs": [],
   "source": [
    "my_list.remove(100)"
   ]
  },
  {
   "cell_type": "code",
   "execution_count": null,
   "id": "208e878d",
   "metadata": {},
   "outputs": [],
   "source": [
    "my_list"
   ]
  },
  {
   "cell_type": "code",
   "execution_count": null,
   "id": "e0e1c01d",
   "metadata": {},
   "outputs": [],
   "source": [
    "my_list.remove(3)"
   ]
  },
  {
   "cell_type": "code",
   "execution_count": null,
   "id": "6209319e",
   "metadata": {},
   "outputs": [],
   "source": [
    "my_list"
   ]
  },
  {
   "cell_type": "code",
   "execution_count": null,
   "id": "dab4a038",
   "metadata": {},
   "outputs": [],
   "source": [
    "a=[1,2,3]"
   ]
  },
  {
   "cell_type": "code",
   "execution_count": null,
   "id": "8be5102a",
   "metadata": {},
   "outputs": [],
   "source": [
    "a.append(4)\n",
    "a"
   ]
  },
  {
   "cell_type": "code",
   "execution_count": null,
   "id": "96db4af7",
   "metadata": {},
   "outputs": [],
   "source": [
    "a.pop()#弹出最后一个元素,同时在a中去除"
   ]
  },
  {
   "cell_type": "code",
   "execution_count": null,
   "id": "87a263d0",
   "metadata": {},
   "outputs": [],
   "source": [
    "a=list(range(1,4))\n",
    "a"
   ]
  },
  {
   "cell_type": "code",
   "execution_count": null,
   "id": "ba88a652",
   "metadata": {},
   "outputs": [],
   "source": [
    "b=a.pop()\n",
    "b"
   ]
  },
  {
   "cell_type": "code",
   "execution_count": null,
   "id": "e8267873",
   "metadata": {},
   "outputs": [],
   "source": [
    "expression = input('Please input an expression:')\n",
    "my_stack = list()\n",
    "\n",
    "left_quotes = list('([{')\n",
    "right_quotes = list(')]}')\n",
    "\n",
    "not_match = False\n",
    "for ch in expression:\n",
    "    if ch in left_quotes:\n",
    "        my_stack.append(ch)\n",
    "    elif ch in right_quotes:\n",
    "        if my_stack == []:\n",
    "            not_match = True\n",
    "            break\n",
    "        else:\n",
    "            left_ch=my_stack.pop()\n",
    "            if left_quotes.index(left_ch)!=right_quotes.index(ch): #查找下标\n",
    "                not_match = true\n",
    "                break\n",
    "                \n",
    "if not_match or my_stack !=[]:\n",
    "    print('not match')\n",
    "else:\n",
    "    print('match') #有问题"
   ]
  },
  {
   "cell_type": "code",
   "execution_count": null,
   "id": "91bd86fe",
   "metadata": {},
   "outputs": [],
   "source": [
    "a=list(range(1,4))\n",
    "b=list(range(4,7))\n",
    "a.extend(b)\n",
    "a"
   ]
  },
  {
   "cell_type": "code",
   "execution_count": null,
   "id": "c474fcfb",
   "metadata": {},
   "outputs": [],
   "source": [
    "a=3\n",
    "a"
   ]
  },
  {
   "cell_type": "code",
   "execution_count": null,
   "id": "e13de795",
   "metadata": {},
   "outputs": [],
   "source": [
    "a=list(range(1,4))\n",
    "b=list(range(4,7))\n",
    "a.extend(b)\n",
    "a +=b\n",
    "a"
   ]
  },
  {
   "cell_type": "code",
   "execution_count": null,
   "id": "02e5d372",
   "metadata": {},
   "outputs": [],
   "source": [
    "a = list(range(1,5))\n",
    "print(a.reverse())"
   ]
  },
  {
   "cell_type": "code",
   "execution_count": null,
   "id": "1370f7a2",
   "metadata": {},
   "outputs": [],
   "source": [
    "a"
   ]
  },
  {
   "cell_type": "code",
   "execution_count": null,
   "id": "253add14",
   "metadata": {},
   "outputs": [],
   "source": [
    "import random\n",
    "a=list()\n",
    "for x in range(0,100):\n",
    "    a.append(random.randint(0,100)) #random是两侧闭区间\n",
    "print(a)"
   ]
  },
  {
   "cell_type": "code",
   "execution_count": null,
   "id": "00d3eb57",
   "metadata": {},
   "outputs": [],
   "source": [
    "b=a.sort() #不返回任何值，但改变了a本身\n",
    "print(b)"
   ]
  },
  {
   "cell_type": "code",
   "execution_count": null,
   "id": "ef0f7702",
   "metadata": {},
   "outputs": [],
   "source": [
    "b=sorted(a)#把排序过的a赋给b\n",
    "print(b)\n",
    "print(a)"
   ]
  },
  {
   "cell_type": "code",
   "execution_count": null,
   "id": "d82e1f5d",
   "metadata": {},
   "outputs": [],
   "source": [
    "print(max(a),min(a),sum(a),len(a))"
   ]
  },
  {
   "cell_type": "code",
   "execution_count": null,
   "id": "81b9f9d5",
   "metadata": {},
   "outputs": [],
   "source": [
    "%%timeit\n",
    "import random\n",
    "a=list()\n",
    "for x in range(0,100):\n",
    "    a.append(random.randint(0,100)) #random是两侧闭区间\n"
   ]
  },
  {
   "cell_type": "code",
   "execution_count": null,
   "id": "aacc041f",
   "metadata": {},
   "outputs": [],
   "source": [
    "%%timeit\n",
    "a =[None]*100\n",
    "for i in range(0,100):\n",
    "    a[i]=random.randint(0,100)"
   ]
  },
  {
   "cell_type": "code",
   "execution_count": null,
   "id": "224228b3",
   "metadata": {},
   "outputs": [],
   "source": [
    "%%timeit\n",
    "import random\n",
    "a=list()\n",
    "for x in range(0,100):\n",
    "    a.append(x) #random是两侧闭区间\n"
   ]
  },
  {
   "cell_type": "code",
   "execution_count": null,
   "id": "afaf47ad",
   "metadata": {},
   "outputs": [],
   "source": [
    "%%timeit\n",
    "a =[None]*100\n",
    "for i in range(0,100):\n",
    "    a[i]=i"
   ]
  },
  {
   "cell_type": "code",
   "execution_count": null,
   "id": "dd79b6cd",
   "metadata": {},
   "outputs": [],
   "source": [
    "year = int(input('your year：'))\n",
    "month = int(input('your month：'))\n",
    "day = int(input('your day：'))\n",
    "\n",
    "days_in_month=[31,28,31,30,31,30,31,31,30,31,30,31]\n",
    "\n",
    "count=sum(days_in_month[0:month-1])+day\n",
    "print(f'This is the {count}th day of the year.')   \n",
    "#缺少判断闰年"
   ]
  },
  {
   "cell_type": "code",
   "execution_count": 6,
   "id": "497e9753",
   "metadata": {},
   "outputs": [
    {
     "name": "stdout",
     "output_type": "stream",
     "text": [
      "Please enter your score:-1\n",
      "Invalid score\n"
     ]
    }
   ],
   "source": [
    "score = int(input('Please enter your score:'))\n",
    "grades = 60*'D'+15*'C'+15*'B'+11*'A'\n",
    "if score <0 or score >100 :\n",
    "    print('Invalid score')\n",
    "else:\n",
    "    print(grades[score])"
   ]
  },
  {
   "cell_type": "code",
   "execution_count": null,
   "id": "6f263719",
   "metadata": {},
   "outputs": [],
   "source": []
  }
 ],
 "metadata": {
  "kernelspec": {
   "display_name": "Python 3 (ipykernel)",
   "language": "python",
   "name": "python3"
  },
  "language_info": {
   "codemirror_mode": {
    "name": "ipython",
    "version": 3
   },
   "file_extension": ".py",
   "mimetype": "text/x-python",
   "name": "python",
   "nbconvert_exporter": "python",
   "pygments_lexer": "ipython3",
   "version": "3.9.12"
  }
 },
 "nbformat": 4,
 "nbformat_minor": 5
}
