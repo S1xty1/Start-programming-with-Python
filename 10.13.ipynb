{
 "cells": [
  {
   "cell_type": "code",
   "execution_count": 2,
   "id": "25fdb9c8",
   "metadata": {},
   "outputs": [
    {
     "name": "stdout",
     "output_type": "stream",
     "text": [
      "Please input name:1\n",
      "please input physics score:2\n",
      "please input math score:3\n",
      "please input python score:4\n",
      "Please input name:2\n",
      "please input physics score:2\n",
      "please input math score:3\n",
      "please input python score:4\n",
      "Please input name:2\n",
      "please input physics score:2\n",
      "please input math score:3\n",
      "please input python score:4\n",
      "Please input name:\n",
      "{'1': {'physics': 2, 'math': 3, 'python': 4}, '2': {'physics': 2, 'math': 3, 'python': 4}}\n"
     ]
    }
   ],
   "source": [
    "score_template = {'physics':None, 'math':None, 'python':None}\n",
    "score_db=dict()\n",
    "while True:\n",
    "    name = input('Please input name:')\n",
    "    if not name:break\n",
    "    scores=score_template.copy()\n",
    "    scores['physics']=int(input('please input physics score:'))\n",
    "    scores['math']=int(input('please input math score:'))\n",
    "    scores['python']=int(input('please input python score:'))\n",
    "    score_db[name]=scores\n",
    "print(score_db)"
   ]
  },
  {
   "cell_type": "code",
   "execution_count": 3,
   "id": "e75b4b55",
   "metadata": {},
   "outputs": [
    {
     "name": "stdout",
     "output_type": "stream",
     "text": [
      "['\\nGoogle', 'today', 'released', 'the', 'open', 'source', 'version', 'of', 'the', 'differential', 'privacy', 'library', 'used', 'in', 'some', 'its', 'core', 'products,', 'such', 'as', 'Google', 'Maps.', 'Any', 'organization', 'or', 'developer', 'can', 'now', 'check', 'out', 'the', 'library', 'on', 'GitHub.\\n\\nDifferential', 'privacy', 'limits', 'the', 'algorithms', 'used', 'to', 'publish', 'aggregate', 'information', 'about', 'a', 'statistical', 'database.', 'Whether', 'you', 'are', 'a', 'city', 'planner,', 'small', 'business', 'owner,', 'or', 'software', 'developer,', 'chances', 'are', 'you', 'want', 'to', 'gain', 'insights', 'from', 'the', 'data', 'of', 'your', 'citizens,', 'customers,', 'or', 'users.', 'But', 'you', 'don’t', 'want', 'to', 'lose', 'their', 'trust', 'in', 'the', 'process.', 'Differentially', 'private', 'data', 'analysis', 'enables', 'organizations', 'to', 'learn', 'from', 'the', 'majority', 'of', 'their', 'data', 'without', 'allowing', 'any', 'single', 'individual’s', 'data', 'to', 'be', 'distinguished', 'or', 're-identified.\\n\\n\"If', 'you', 'are', 'a', 'health', 'researcher,', 'you', 'may', 'want', 'to', 'compare', 'the', 'average', 'amount', 'of', 'time', 'patients', 'remain', 'admitted', 'across', 'various', 'hospitals', 'in', 'order', 'to', 'determine', 'if', 'there', 'are', 'differences', 'in', 'care,”', 'Google', 'product', 'manager', 'Miguel', 'Guevara', 'explains.', '“Differential', 'privacy', 'is', 'a', 'high-assurance,', 'analytic', 'means', 'of', 'ensuring', 'that', 'use', 'cases', 'like', 'this', 'are', 'addressed', 'in', 'a', 'privacy-preserving', 'manner.\"\\nDifferential', 'privacy', 'library', 'features\\n\\nGoogle', 'promises', 'its', 'library', 'is', 'easy', 'for', 'developers', 'to', 'deploy.', 'It', 'can', 'help', 'you', 'perform', 'functions', 'that', 'are', 'difficult', 'to', 'execute', 'from', 'scratch,', '“like', 'automatically', 'calculating', 'bounds', 'on', 'user', 'contributions,”', 'Guevera', 'says.', 'Key', 'features', 'include:\\n\\n', '', '', '', 'Statistical', 'functions:', 'Most', 'common', 'data', 'science', 'operations', '(counts,', 'sums,', 'averages,', 'medians,', 'and', 'percentiles)', 'are', 'supported.\\n', '', '', '', 'Rigorous', 'testing:', 'Besides', 'an', 'extensive', 'test', 'suite,', 'an', 'extensible', '“Stochastic', 'Differential', 'Privacy', 'Model', 'Checker', 'library”', 'helps', 'prevent', 'mistakes.\\n', '', '', '', 'Ready', 'to', 'use:', 'A', 'PostgreSQL', 'extension,', 'along', 'with', 'common', 'recipes,', 'is', 'included.\\n', '', '', '', 'Modular:', 'The', 'library', 'can', 'be', 'extended', 'to', 'include', 'other', 'functionalities,', 'such', 'as', 'additional', 'mechanisms,', 'aggregation', 'functions,', 'or', 'privacy', 'budget', 'management.\\n', '', '', '', 'This', 'isn’t', 'Google’s', 'first', 'differential', 'privacy', 'rodeo,', 'but', 'the', 'company', 'has', 'been', 'particularly', 'busy', 'in', 'the', 'space', 'this', 'year.', 'In', 'March,', 'Google', 'released', 'TensorFlow', 'Privacy', 'and', 'TensorFlow', 'Federated.', 'In', 'June,', 'the', 'company', 'open-sourced', 'Private', 'Join', 'and', 'Compute,', 'which', 'gives', 'companies', 'data', 'insights', 'while', 'preserving', 'privacy.', 'To', 'learn', 'more', 'about', 'Google’s', 'approach,', 'check', 'out', 'the', 'team’s', 'technical', 'paper', 'on', 'arXiv.\\n']\n"
     ]
    }
   ],
   "source": [
    "text = '''\n",
    "Google today released the open source version of the differential privacy library used in some its core products, such as Google Maps. Any organization or developer can now check out the library on GitHub.\n",
    "\n",
    "Differential privacy limits the algorithms used to publish aggregate information about a statistical database. Whether you are a city planner, small business owner, or software developer, chances are you want to gain insights from the data of your citizens, customers, or users. But you don’t want to lose their trust in the process. Differentially private data analysis enables organizations to learn from the majority of their data without allowing any single individual’s data to be distinguished or re-identified.\n",
    "\n",
    "\"If you are a health researcher, you may want to compare the average amount of time patients remain admitted across various hospitals in order to determine if there are differences in care,” Google product manager Miguel Guevara explains. “Differential privacy is a high-assurance, analytic means of ensuring that use cases like this are addressed in a privacy-preserving manner.\"\n",
    "Differential privacy library features\n",
    "\n",
    "Google promises its library is easy for developers to deploy. It can help you perform functions that are difficult to execute from scratch, “like automatically calculating bounds on user contributions,” Guevera says. Key features include:\n",
    "\n",
    "    Statistical functions: Most common data science operations (counts, sums, averages, medians, and percentiles) are supported.\n",
    "    Rigorous testing: Besides an extensive test suite, an extensible “Stochastic Differential Privacy Model Checker library” helps prevent mistakes.\n",
    "    Ready to use: A PostgreSQL extension, along with common recipes, is included.\n",
    "    Modular: The library can be extended to include other functionalities, such as additional mechanisms, aggregation functions, or privacy budget management.\n",
    "    This isn’t Google’s first differential privacy rodeo, but the company has been particularly busy in the space this year. In March, Google released TensorFlow Privacy and TensorFlow Federated. In June, the company open-sourced Private Join and Compute, which gives companies data insights while preserving privacy. To learn more about Google’s approach, check out the team’s technical paper on arXiv.\n",
    "'''\n",
    "words= text.split(' ')\n",
    "print(words)"
   ]
  },
  {
   "cell_type": "code",
   "execution_count": 4,
   "id": "8ad6d381",
   "metadata": {},
   "outputs": [
    {
     "name": "stdout",
     "output_type": "stream",
     "text": [
      "['', 'google', 'today', 'released', 'the', 'open', 'source', 'version', 'of', 'the', 'differential', 'privacy', 'library', 'used', 'in', 'some', 'its', 'core', 'products', '', 'such', 'as', 'google', 'maps', '', 'any', 'organization', 'or', 'developer', 'can', 'now', 'check', 'out', 'the', 'library', 'on', 'github', '', '', 'differential', 'privacy', 'limits', 'the', 'algorithms', 'used', 'to', 'publish', 'aggregate', 'information', 'about', 'a', 'statistical', 'database', '', 'whether', 'you', 'are', 'a', 'city', 'planner', '', 'small', 'business', 'owner', '', 'or', 'software', 'developer', '', 'chances', 'are', 'you', 'want', 'to', 'gain', 'insights', 'from', 'the', 'data', 'of', 'your', 'citizens', '', 'customers', '', 'or', 'users', '', 'but', 'you', 'don’t', 'want', 'to', 'lose', 'their', 'trust', 'in', 'the', 'process', '', 'differentially', 'private', 'data', 'analysis', 'enables', 'organizations', 'to', 'learn', 'from', 'the', 'majority', 'of', 'their', 'data', 'without', 'allowing', 'any', 'single', 'individual’s', 'data', 'to', 'be', 'distinguished', 'or', 're-identified', '', '', '', 'if', 'you', 'are', 'a', 'health', 'researcher', '', 'you', 'may', 'want', 'to', 'compare', 'the', 'average', 'amount', 'of', 'time', 'patients', 'remain', 'admitted', 'across', 'various', 'hospitals', 'in', 'order', 'to', 'determine', 'if', 'there', 'are', 'differences', 'in', 'care', '”', 'google', 'product', 'manager', 'miguel', 'guevara', 'explains', '', '“differential', 'privacy', 'is', 'a', 'high-assurance', '', 'analytic', 'means', 'of', 'ensuring', 'that', 'use', 'cases', 'like', 'this', 'are', 'addressed', 'in', 'a', 'privacy-preserving', 'manner', '', '', 'differential', 'privacy', 'library', 'features', '', 'google', 'promises', 'its', 'library', 'is', 'easy', 'for', 'developers', 'to', 'deploy', '', 'it', 'can', 'help', 'you', 'perform', 'functions', 'that', 'are', 'difficult', 'to', 'execute', 'from', 'scratch', '', '“like', 'automatically', 'calculating', 'bounds', 'on', 'user', 'contributions', '”', 'guevera', 'says', '', 'key', 'features', 'include', '', '', '', '', '', '', 'statistical', 'functions', '', 'most', 'common', 'data', 'science', 'operations', '', 'counts', '', 'sums', '', 'averages', '', 'medians', '', 'and', 'percentiles', '', 'are', 'supported', '', '', '', '', '', 'rigorous', 'testing', '', 'besides', 'an', 'extensive', 'test', 'suite', '', 'an', 'extensible', '“stochastic', 'differential', 'privacy', 'model', 'checker', 'library”', 'helps', 'prevent', 'mistakes', '', '', '', '', '', 'ready', 'to', 'use', '', 'a', 'postgresql', 'extension', '', 'along', 'with', 'common', 'recipes', '', 'is', 'included', '', '', '', '', '', 'modular', '', 'the', 'library', 'can', 'be', 'extended', 'to', 'include', 'other', 'functionalities', '', 'such', 'as', 'additional', 'mechanisms', '', 'aggregation', 'functions', '', 'or', 'privacy', 'budget', 'management', '', '', '', '', '', 'this', 'isn’t', 'google’s', 'first', 'differential', 'privacy', 'rodeo', '', 'but', 'the', 'company', 'has', 'been', 'particularly', 'busy', 'in', 'the', 'space', 'this', 'year', '', 'in', 'march', '', 'google', 'released', 'tensorflow', 'privacy', 'and', 'tensorflow', 'federated', '', 'in', 'june', '', 'the', 'company', 'open-sourced', 'private', 'join', 'and', 'compute', '', 'which', 'gives', 'companies', 'data', 'insights', 'while', 'preserving', 'privacy', '', 'to', 'learn', 'more', 'about', 'google’s', 'approach', '', 'check', 'out', 'the', 'team’s', 'technical', 'paper', 'on', 'arxiv', '', '']\n"
     ]
    }
   ],
   "source": [
    "text =text.lower()\n",
    "for sep in '\\n \\' \\\" . , : ( ) \" \" ':\n",
    "    text=text.replace(sep,' ')\n",
    "words=text.split(' ')\n",
    "print(words)"
   ]
  },
  {
   "cell_type": "code",
   "execution_count": 5,
   "id": "d0c76e26",
   "metadata": {},
   "outputs": [
    {
     "name": "stdout",
     "output_type": "stream",
     "text": [
      "['google', 'today', 'released', 'the', 'open', 'source', 'version', 'of', 'the', 'differential', 'privacy', 'library', 'used', 'in', 'some', 'its', 'core', 'products', 'such', 'as', 'google', 'maps', 'any', 'organization', 'or', 'developer', 'can', 'now', 'check', 'out', 'the', 'library', 'on', 'github', 'differential', 'privacy', 'limits', 'the', 'algorithms', 'used', 'to', 'publish', 'aggregate', 'information', 'about', 'a', 'statistical', 'database', 'whether', 'you', 'are', 'a', 'city', 'planner', 'small', 'business', 'owner', 'or', 'software', 'developer', 'chances', 'are', 'you', 'want', 'to', 'gain', 'insights', 'from', 'the', 'data', 'of', 'your', 'citizens', 'customers', 'or', 'users', 'but', 'you', 'don’t', 'want', 'to', 'lose', 'their', 'trust', 'in', 'the', 'process', 'differentially', 'private', 'data', 'analysis', 'enables', 'organizations', 'to', 'learn', 'from', 'the', 'majority', 'of', 'their', 'data', 'without', 'allowing', 'any', 'single', 'individual’s', 'data', 'to', 'be', 'distinguished', 'or', 're-identified', 'if', 'you', 'are', 'a', 'health', 'researcher', 'you', 'may', 'want', 'to', 'compare', 'the', 'average', 'amount', 'of', 'time', 'patients', 'remain', 'admitted', 'across', 'various', 'hospitals', 'in', 'order', 'to', 'determine', 'if', 'there', 'are', 'differences', 'in', 'care', '”', 'google', 'product', 'manager', 'miguel', 'guevara', 'explains', '“differential', 'privacy', 'is', 'a', 'high-assurance', 'analytic', 'means', 'of', 'ensuring', 'that', 'use', 'cases', 'like', 'this', 'are', 'addressed', 'in', 'a', 'privacy-preserving', 'manner', 'differential', 'privacy', 'library', 'features', 'google', 'promises', 'its', 'library', 'is', 'easy', 'for', 'developers', 'to', 'deploy', 'it', 'can', 'help', 'you', 'perform', 'functions', 'that', 'are', 'difficult', 'to', 'execute', 'from', 'scratch', '“like', 'automatically', 'calculating', 'bounds', 'on', 'user', 'contributions', '”', 'guevera', 'says', 'key', 'features', 'include', 'statistical', 'functions', 'most', 'common', 'data', 'science', 'operations', 'counts', 'sums', 'averages', 'medians', 'and', 'percentiles', 'are', 'supported', 'rigorous', 'testing', 'besides', 'an', 'extensive', 'test', 'suite', 'an', 'extensible', '“stochastic', 'differential', 'privacy', 'model', 'checker', 'library”', 'helps', 'prevent', 'mistakes', 'ready', 'to', 'use', 'a', 'postgresql', 'extension', 'along', 'with', 'common', 'recipes', 'is', 'included', 'modular', 'the', 'library', 'can', 'be', 'extended', 'to', 'include', 'other', 'functionalities', 'such', 'as', 'additional', 'mechanisms', 'aggregation', 'functions', 'or', 'privacy', 'budget', 'management', 'this', 'isn’t', 'google’s', 'first', 'differential', 'privacy', 'rodeo', 'but', 'the', 'company', 'has', 'been', 'particularly', 'busy', 'in', 'the', 'space', 'this', 'year', 'in', 'march', 'google', 'released', 'tensorflow', 'privacy', 'and', 'tensorflow', 'federated', 'in', 'june', 'the', 'company', 'open-sourced', 'private', 'join', 'and', 'compute', 'which', 'gives', 'companies', 'data', 'insights', 'while', 'preserving', 'privacy', 'to', 'learn', 'more', 'about', 'google’s', 'approach', 'check', 'out', 'the', 'team’s', 'technical', 'paper', 'on', 'arxiv']\n"
     ]
    }
   ],
   "source": [
    "while '' in words:\n",
    "    words.remove('')\n",
    "print(words)"
   ]
  },
  {
   "cell_type": "code",
   "execution_count": 7,
   "id": "55a65b36",
   "metadata": {},
   "outputs": [
    {
     "ename": "NameError",
     "evalue": "name 'count' is not defined",
     "output_type": "error",
     "traceback": [
      "\u001b[1;31m---------------------------------------------------------------------------\u001b[0m",
      "\u001b[1;31mNameError\u001b[0m                                 Traceback (most recent call last)",
      "Input \u001b[1;32mIn [7]\u001b[0m, in \u001b[0;36m<cell line: 2>\u001b[1;34m()\u001b[0m\n\u001b[0;32m      1\u001b[0m words_by_count \u001b[38;5;241m=\u001b[39m \u001b[38;5;28mdict\u001b[39m()\n\u001b[1;32m----> 2\u001b[0m \u001b[38;5;28;01mfor\u001b[39;00m word \u001b[38;5;129;01min\u001b[39;00m \u001b[43mcount\u001b[49m\u001b[38;5;241m.\u001b[39mkeys():\n\u001b[0;32m      3\u001b[0m     words_by_count\u001b[38;5;241m.\u001b[39msetdefault(count[word],[])\n\u001b[0;32m      4\u001b[0m     words_by_count[count[word]]\u001b[38;5;241m.\u001b[39mappend(word)\n",
      "\u001b[1;31mNameError\u001b[0m: name 'count' is not defined"
     ]
    }
   ],
   "source": [
    "words_by_count = dict()\n",
    "for word in count.keys():\n",
    "    words_by_count.setdefault(count[word],[])\n",
    "    words_by_count[count[word]].append(word)\n",
    "\n",
    "for item in sorted(words_by_count.keys()):\n",
    "    print(f'count{item}:',end='')\n",
    "    for word in word_by_count[item]:\n",
    "        print(word,end=' ')\n",
    "    print('\\n')"
   ]
  },
  {
   "cell_type": "code",
   "execution_count": 9,
   "id": "420eb622",
   "metadata": {},
   "outputs": [
    {
     "name": "stdout",
     "output_type": "stream",
     "text": [
      "1 2 3 4 5 6 7 8 9 10 11 12 13 14 15 16 17 18 19 20 21 22 23 24 25 26 27 28 29 30 31 32 33 34 35 36 37 38 39 40 41 42 43 44 45 46 47 48 49 50 51 52 53 54 55 56 57 58 59 60 61 62 63 64 65 66 67 68 69 70 71 72 73 74 75 76 77 78 79 80 81 82 83 84 85 86 87 88 89 90 91 92 93 94 95 96 97 98 "
     ]
    }
   ],
   "source": [
    "for a in range(1,99):\n",
    "    print(a,end=' ')"
   ]
  },
  {
   "cell_type": "code",
   "execution_count": 14,
   "id": "4c6b7184",
   "metadata": {},
   "outputs": [],
   "source": [
    "def leapyear(year):\n",
    "    assert(year>=0)\n",
    "    return(year % 400==0) or (year%4==0 and year % 100)\n",
    "assert(leapyear(1984))"
   ]
  },
  {
   "cell_type": "code",
   "execution_count": 18,
   "id": "37555a06",
   "metadata": {},
   "outputs": [
    {
     "name": "stdout",
     "output_type": "stream",
     "text": [
      " "
     ]
    },
    {
     "ename": "IndexError",
     "evalue": "list assignment index out of range",
     "output_type": "error",
     "traceback": [
      "\u001b[1;31m---------------------------------------------------------------------------\u001b[0m",
      "\u001b[1;31mIndexError\u001b[0m                                Traceback (most recent call last)",
      "Input \u001b[1;32mIn [18]\u001b[0m, in \u001b[0;36m<cell line: 17>\u001b[1;34m()\u001b[0m\n\u001b[0;32m     17\u001b[0m \u001b[38;5;28;01mfor\u001b[39;00m i \u001b[38;5;129;01min\u001b[39;00m \u001b[38;5;28mrange\u001b[39m(\u001b[38;5;241m1\u001b[39m,length):\n\u001b[0;32m     18\u001b[0m     bar[x]\u001b[38;5;241m=\u001b[39m\u001b[38;5;124m'\u001b[39m\u001b[38;5;124m*\u001b[39m\u001b[38;5;124m'\u001b[39m\n\u001b[1;32m---> 19\u001b[0m     bar[y]\u001b[38;5;241m=\u001b[39m\u001b[38;5;124m'\u001b[39m\u001b[38;5;124m#\u001b[39m\u001b[38;5;124m'\u001b[39m\n\u001b[0;32m     20\u001b[0m     \u001b[38;5;28;01mfor\u001b[39;00m ch \u001b[38;5;129;01min\u001b[39;00m bar:\n\u001b[0;32m     21\u001b[0m         \u001b[38;5;28mprint\u001b[39m(ch,sep\u001b[38;5;241m=\u001b[39m\u001b[38;5;124m'\u001b[39m\u001b[38;5;124m \u001b[39m\u001b[38;5;124m'\u001b[39m,end\u001b[38;5;241m=\u001b[39m\u001b[38;5;124m'\u001b[39m\u001b[38;5;124m \u001b[39m\u001b[38;5;124m'\u001b[39m)\n",
      "\u001b[1;31mIndexError\u001b[0m: list assignment index out of range"
     ]
    }
   ],
   "source": [
    "import math\n",
    "\n",
    "def wait():\n",
    "    y = 0 \n",
    "    while y < 500000:\n",
    "        z = math.sin(x)*math.cos(x)\n",
    "        y+=1\n",
    "\n",
    "length = 60 \n",
    "bar =list()\n",
    "for i in range(0,length):\n",
    "    bar.append(' ')\n",
    "\n",
    "x=0 \n",
    "y=length-1\n",
    " \n",
    "for i in range(1,length):\n",
    "    bar[x]='*'\n",
    "    bar[y]='#'\n",
    "    for ch in bar:\n",
    "        print(ch,sep=' ',end=' ')\n",
    "    wait\n",
    "    bar[x]=bar[y]=' '\n",
    "    x+=1\n",
    "    y+=1\n",
    "    print('\\r',end=' ')"
   ]
  },
  {
   "cell_type": "code",
   "execution_count": 27,
   "id": "89e601a1",
   "metadata": {},
   "outputs": [
    {
     "name": "stdout",
     "output_type": "stream",
     "text": [
      "1 1 2 3 5 8 13 21 34 "
     ]
    }
   ],
   "source": [
    "def fib(n):\n",
    "    second_last,last=1,1\n",
    "    for i in range(n-2):\n",
    "        second_last,last=last,second_last+last\n",
    "    return last\n",
    "for i in range(1,10):\n",
    "    print(fib(i),end=' ')"
   ]
  },
  {
   "cell_type": "code",
   "execution_count": 28,
   "id": "e669c220",
   "metadata": {},
   "outputs": [
    {
     "name": "stdout",
     "output_type": "stream",
     "text": [
      "1\n"
     ]
    }
   ],
   "source": [
    "def doubleit(x):\n",
    "    x=x*2\n",
    "a=1\n",
    "doubleit(a)\n",
    "print(a)\n",
    "#对标签的理解\n"
   ]
  },
  {
   "cell_type": "code",
   "execution_count": 31,
   "id": "95dcbc30",
   "metadata": {},
   "outputs": [
    {
     "name": "stdout",
     "output_type": "stream",
     "text": [
      "[1, 2, 1]\n"
     ]
    }
   ],
   "source": [
    "def test(seq):\n",
    "    seq.append(1)\n",
    "    \n",
    "list1=[1,2]\n",
    "test(list1)\n",
    "print(list1)"
   ]
  },
  {
   "cell_type": "code",
   "execution_count": 32,
   "id": "ab894213",
   "metadata": {},
   "outputs": [
    {
     "name": "stdout",
     "output_type": "stream",
     "text": [
      "fuck,zhang\n"
     ]
    }
   ],
   "source": [
    "def hello(greeting,name):\n",
    "    print(f'{greeting},{name}')\n",
    "hello(name='zhang',greeting='fuck')"
   ]
  },
  {
   "cell_type": "code",
   "execution_count": 33,
   "id": "67c6752c",
   "metadata": {},
   "outputs": [
    {
     "data": {
      "text/plain": [
       "3"
      ]
     },
     "execution_count": 33,
     "metadata": {},
     "output_type": "execute_result"
    }
   ],
   "source": [
    "def add_all(*param):\n",
    "    return(sum(param))\n",
    "add_all(1,2)"
   ]
  },
  {
   "cell_type": "code",
   "execution_count": 35,
   "id": "63281770",
   "metadata": {},
   "outputs": [
    {
     "name": "stdout",
     "output_type": "stream",
     "text": [
      "{'x': 1, 'y': 2, 'z': 3}\n"
     ]
    }
   ],
   "source": [
    "def print_param(**param):\n",
    "    print(param)\n",
    "    \n",
    "print_param(x=1,y=2,z=3)"
   ]
  },
  {
   "cell_type": "code",
   "execution_count": 38,
   "id": "0a4a690b",
   "metadata": {},
   "outputs": [
    {
     "ename": "TypeError",
     "evalue": "'list' object is not callable",
     "output_type": "error",
     "traceback": [
      "\u001b[1;31m---------------------------------------------------------------------------\u001b[0m",
      "\u001b[1;31mTypeError\u001b[0m                                 Traceback (most recent call last)",
      "Input \u001b[1;32mIn [38]\u001b[0m, in \u001b[0;36m<cell line: 10>\u001b[1;34m()\u001b[0m\n\u001b[0;32m      7\u001b[0m         y\u001b[38;5;241m+\u001b[39m\u001b[38;5;241m=\u001b[39m\u001b[38;5;241m1\u001b[39m\n\u001b[0;32m      9\u001b[0m length \u001b[38;5;241m=\u001b[39m \u001b[38;5;241m60\u001b[39m \n\u001b[1;32m---> 10\u001b[0m bar \u001b[38;5;241m=\u001b[39m \u001b[38;5;28;43mlist\u001b[39;49m\u001b[43m(\u001b[49m\u001b[43m)\u001b[49m\n\u001b[0;32m     11\u001b[0m \u001b[38;5;28;01mfor\u001b[39;00m i \u001b[38;5;129;01min\u001b[39;00m \u001b[38;5;28mrange\u001b[39m(\u001b[38;5;241m0\u001b[39m,length):\n\u001b[0;32m     12\u001b[0m     bar\u001b[38;5;241m.\u001b[39mappend(\u001b[38;5;124m'\u001b[39m\u001b[38;5;124m \u001b[39m\u001b[38;5;124m'\u001b[39m)\n",
      "\u001b[1;31mTypeError\u001b[0m: 'list' object is not callable"
     ]
    }
   ],
   "source": [
    "import math\n",
    "\n",
    "def wait():\n",
    "    y = 0 \n",
    "    while y < 500000:\n",
    "        z = math.sin(x)*math.cos(x)\n",
    "        y+=1\n",
    "\n",
    "length = 60 \n",
    "bar = list()\n",
    "for i in range(0,length):\n",
    "    bar.append(' ')\n",
    "\n",
    "x=0 \n",
    "y=length-1\n",
    " \n",
    "for i in range(1,length):\n",
    "    bar[x]='*'\n",
    "    bar[y]='#'\n",
    "    for ch in bar:\n",
    "        print(ch,sep=' ',end=' ')\n",
    "    wait\n",
    "    bar[x]=bar[y]=' '\n",
    "    x+=1\n",
    "    y+=1\n",
    "    print('\\r',end=' ')"
   ]
  },
  {
   "cell_type": "code",
   "execution_count": 47,
   "id": "de5a4b22",
   "metadata": {},
   "outputs": [
    {
     "ename": "TypeError",
     "evalue": "'list' object is not callable",
     "output_type": "error",
     "traceback": [
      "\u001b[1;31m---------------------------------------------------------------------------\u001b[0m",
      "\u001b[1;31mTypeError\u001b[0m                                 Traceback (most recent call last)",
      "Input \u001b[1;32mIn [47]\u001b[0m, in \u001b[0;36m<cell line: 39>\u001b[1;34m()\u001b[0m\n\u001b[0;32m     36\u001b[0m         z \u001b[38;5;241m=\u001b[39m math\u001b[38;5;241m.\u001b[39msin(x)\u001b[38;5;241m*\u001b[39mmath\u001b[38;5;241m.\u001b[39mcos(x)\n\u001b[0;32m     37\u001b[0m         y\u001b[38;5;241m+\u001b[39m\u001b[38;5;241m=\u001b[39m\u001b[38;5;241m1\u001b[39m\n\u001b[1;32m---> 39\u001b[0m bar\u001b[38;5;241m=\u001b[39m\u001b[43msetup_bar\u001b[49m\u001b[43m(\u001b[49m\u001b[43m)\u001b[49m\n\u001b[0;32m     40\u001b[0m ants\u001b[38;5;241m=\u001b[39msetup_ants\n\u001b[0;32m     41\u001b[0m update_bar(bar,ants)\n",
      "Input \u001b[1;32mIn [47]\u001b[0m, in \u001b[0;36msetup_bar\u001b[1;34m(length)\u001b[0m\n\u001b[0;32m      2\u001b[0m \u001b[38;5;28;01mdef\u001b[39;00m \u001b[38;5;21msetup_bar\u001b[39m(length\u001b[38;5;241m=\u001b[39m\u001b[38;5;241m60\u001b[39m):\n\u001b[1;32m----> 3\u001b[0m     bar \u001b[38;5;241m=\u001b[39m \u001b[38;5;28;43mlist\u001b[39;49m\u001b[43m(\u001b[49m\u001b[38;5;124;43m'\u001b[39;49m\u001b[38;5;124;43m \u001b[39;49m\u001b[38;5;124;43m'\u001b[39;49m\u001b[38;5;241;43m*\u001b[39;49m\u001b[43mlength\u001b[49m\u001b[43m)\u001b[49m\n\u001b[0;32m      4\u001b[0m     \u001b[38;5;28;01mreturn\u001b[39;00m bar\n",
      "\u001b[1;31mTypeError\u001b[0m: 'list' object is not callable"
     ]
    }
   ],
   "source": [
    "import math\n",
    "def setup_bar(length=60):\n",
    "    bar = list(' '*length)\n",
    "    return bar\n",
    "\n",
    "def setup_ants(length=60):\n",
    "    ants = list()\n",
    "    ants.append({'positon':0,'direction':1})\n",
    "    ants.append({'positon':length-1,'direction':-1})\n",
    "    return ants\n",
    "\n",
    "def clear_bar(bar):\n",
    "    for i in range(len(bar)):\n",
    "        bar[i]=' '\n",
    "\n",
    "def update_bar(bar,ants):\n",
    "    clear_bar(bar)\n",
    "    for ant in ants:\n",
    "        if 0<=ant['position']<len(bar):\n",
    "            bar[ant['position']]='*'\n",
    "\n",
    "def is_bar_empty(bar):\n",
    "    for i in bar:\n",
    "        if not i == ' ':\n",
    "            return False\n",
    "    return True\n",
    "\n",
    "def show_bar(bar):\n",
    "    for ch in bar:\n",
    "        print(ch,sep='',end='')\n",
    "    print('\\r',sep='',end='')\n",
    "\n",
    "def wait():\n",
    "    y = 0 \n",
    "    while y < 500000:\n",
    "        z = math.sin(x)*math.cos(x)\n",
    "        y+=1\n",
    "        \n",
    "bar=setup_bar()\n",
    "ants=setup_ants\n",
    "update_bar(bar,ants)\n",
    "show_bar(bar)\n",
    "while not is_bar_empty(bar):\n",
    "    wait()\n",
    "    update_ants(ants)\n",
    "    update_bar(bar,ants) \n",
    "    show_bar(bar)\n",
    "    \n",
    "    "
   ]
  },
  {
   "cell_type": "code",
   "execution_count": 50,
   "id": "ad4f040d",
   "metadata": {},
   "outputs": [
    {
     "ename": "TypeError",
     "evalue": "'list' object is not callable",
     "output_type": "error",
     "traceback": [
      "\u001b[1;31m---------------------------------------------------------------------------\u001b[0m",
      "\u001b[1;31mTypeError\u001b[0m                                 Traceback (most recent call last)",
      "Input \u001b[1;32mIn [50]\u001b[0m, in \u001b[0;36m<cell line: 1>\u001b[1;34m()\u001b[0m\n\u001b[1;32m----> 1\u001b[0m a\u001b[38;5;241m=\u001b[39m\u001b[38;5;28;43mlist\u001b[39;49m\u001b[43m(\u001b[49m\u001b[43m)\u001b[49m\n",
      "\u001b[1;31mTypeError\u001b[0m: 'list' object is not callable"
     ]
    }
   ],
   "source": [
    "a=list()"
   ]
  },
  {
   "cell_type": "code",
   "execution_count": null,
   "id": "0a9b9903",
   "metadata": {},
   "outputs": [],
   "source": []
  }
 ],
 "metadata": {
  "kernelspec": {
   "display_name": "Python 3 (ipykernel)",
   "language": "python",
   "name": "python3"
  },
  "language_info": {
   "codemirror_mode": {
    "name": "ipython",
    "version": 3
   },
   "file_extension": ".py",
   "mimetype": "text/x-python",
   "name": "python",
   "nbconvert_exporter": "python",
   "pygments_lexer": "ipython3",
   "version": "3.9.12"
  }
 },
 "nbformat": 4,
 "nbformat_minor": 5
}
